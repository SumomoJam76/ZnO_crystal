{
 "cells": [
  {
   "cell_type": "code",
   "execution_count": 1,
   "id": "9f9f3215-17fd-4e56-af0c-5b06bd7a6877",
   "metadata": {
    "tags": []
   },
   "outputs": [],
   "source": [
    "import open3d as o3d\n",
    "import numpy as np\n",
    "\n",
    "import copy"
   ]
  },
  {
   "cell_type": "code",
   "execution_count": 2,
   "id": "a5ee76f8-5614-4e5f-b1bd-b252466d3612",
   "metadata": {
    "tags": []
   },
   "outputs": [],
   "source": [
    "def creat_crystal(position, direction, H, R):\n",
    "    # position にて長さ H, （外接円）半径 R, 向きが direction の正六角結晶を作る関数\n",
    "    # positon = (p1, p2, p3)\n",
    "    # direction = (d1, d2, d3)\n",
    "    # direction は原点からのベクトル\n",
    "    # 原点にて正六角結晶を作る --> 指定した向きに回転させる --> 指定した位置に平行移動させる --> return\n",
    "    \n",
    "    # 六角柱と2つのコーンを組み合わせる\n",
    "    hex_cy = o3d.geometry.TriangleMesh.create_cylinder(radius=R, height=H, resolution=6, split=1)\n",
    "    hex_con = o3d.geometry.TriangleMesh.create_cone(radius=R, height=1.0, resolution=6, split=1, create_uv_map=False)\n",
    "    \n",
    "    con_t = copy.deepcopy(hex_con).translate((0, 0, H/2))\n",
    "    \n",
    "    con_rev = copy.deepcopy(con_t)\n",
    "    R = con_rev.get_rotation_matrix_from_xyz((0, np.pi, 0))\n",
    "    con_rev.rotate(R, center=(0, 0, 0))\n",
    "    \n",
    "    crystal = hex_cy + con_t + con_rev\n",
    "    \n",
    "    # 回転\n",
    "    R2 = crystal.get_rotation_matrix_from_xyz(direction)\n",
    "    crystal.rotate(R2, center=(0, 0, 0))\n",
    "    \n",
    "    # 平行移動\n",
    "    crystal2 = copy.deepcopy(crystal).translate(position)\n",
    "    \n",
    "    #陰をつける(?)\n",
    "    crystal2.compute_vertex_normals()\n",
    "    \n",
    "    return crystal2\n"
   ]
  },
  {
   "cell_type": "code",
   "execution_count": null,
   "id": "fe4ec0eb-133d-4326-9f36-c5cc5bccf537",
   "metadata": {
    "tags": []
   },
   "outputs": [],
   "source": [
    "def grow_crystal(var, num, h, hv, r, rv, Vvar):\n",
    "    # 平面上に num*num 個の結晶を分散 var で成長させる関数\n",
    "    # 結晶の長さは N(h, hv)の正規分布に従うとする\n",
    "    # 結晶の半径は N(h, hv)の正規分布に従うとする\n",
    "    # 結晶の向きの分散 --> Vvar\n",
    "    \n",
    "    # 平面上の点群 xyz をとる（後で creat_crystal関数の position になる\n",
    "    x = np.linspace(0, 100, num)\n",
    "    mesh_x, mesh_y = np.meshgrid(x, x)\n",
    "    z = 0\n",
    "    xyz = np.zeros((np.size(mesh_x), 3))\n",
    "    xyz[:, 0] = np.reshape(mesh_x, -1)\n",
    "    xyz[:, 1] = np.reshape(mesh_y, -1)\n",
    "    xyz[:, 2] = np.reshape(0, -1)\n",
    "    \n",
    "    x_noise = np.random.normal(loc = 0, scale = var, size = num*num)\n",
    "    y_noise = np.random.normal(loc = 0, scale = var, size = num*num)\n",
    "    \n",
    "    xyz[:, 0] = xyz[:, 0] + x_noise\n",
    "    xyz[:, 1] = xyz[:, 1] + y_noise\n",
    "    \n",
    "    # 結晶の向きを表すベクトルの集合 Vxyz を作る\n",
    "    Vxyz = np.zeros((np.size(mesh_x), 3))\n",
    "    \n",
    "    Vxyz[:, 0] = np.random.normal(loc = 0, scale = Vvar, size = num*num)\n",
    "    Vxyz[:, 1] = np.random.normal(loc = 0, scale = Vvar, size = num*num)\n",
    "    #Vxyz[:, 2] = abs(np.random.normal(loc = 0, scale = Vvar, size = num*num))\n",
    "    \n",
    "    # 結晶の集合 --> field\n",
    "    field = list()\n",
    "    \n",
    "    for (p, d) in zip(xyz, Vxyz):\n",
    "        height = np.random.normal(loc = h, scale = hv)\n",
    "        radius = np.random.normal(loc = r, scale = rv)\n",
    "        \n",
    "        field.append(creat_crystal(p, d, height, radius))\n",
    "    \n",
    "    # 平面メッシュ\n",
    "    face = o3d.geometry.TriangleMesh.create_box(width=200.0, height=200.0, depth=0.01, create_uv_map=False)\n",
    "    face2 = copy.deepcopy(face).translate((-50, -50, 0))\n",
    "    \n",
    "    face2.paint_uniform_color([0.1, 0.1, 0.1])\n",
    "    field.append(face2)\n",
    "        \n",
    "    return field\n",
    "\n",
    "var = 5\n",
    "num = 10\n",
    "h = 10\n",
    "hv = 2\n",
    "r = 1.0\n",
    "rv = 0\n",
    "Vvar = 0.5\n",
    "o3d.visualization.draw_geometries(grow_crystal(var, num, h, hv, r, rv, Vvar))"
   ]
  },
  {
   "cell_type": "code",
   "execution_count": null,
   "id": "40754094-00e5-4bcf-8691-a87f18b63cd2",
   "metadata": {},
   "outputs": [],
   "source": []
  }
 ],
 "metadata": {
  "kernelspec": {
   "display_name": "py310",
   "language": "python",
   "name": "py310"
  },
  "language_info": {
   "codemirror_mode": {
    "name": "ipython",
    "version": 3
   },
   "file_extension": ".py",
   "mimetype": "text/x-python",
   "name": "python",
   "nbconvert_exporter": "python",
   "pygments_lexer": "ipython3",
   "version": "3.10.12"
  }
 },
 "nbformat": 4,
 "nbformat_minor": 5
}
